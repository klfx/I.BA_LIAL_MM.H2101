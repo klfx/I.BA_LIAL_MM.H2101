{
 "cells": [
  {
   "cell_type": "markdown",
   "id": "c1d95ad2-e679-473a-a50b-d5ffc2290d04",
   "metadata": {},
   "source": [
    "# LR/LU Zerlegung"
   ]
  },
  {
   "cell_type": "code",
   "execution_count": 3,
   "id": "f71d21ec-0ea8-4d80-b2b6-df8d8ae31729",
   "metadata": {},
   "outputs": [],
   "source": [
    "import numpy as np"
   ]
  },
  {
   "cell_type": "code",
   "execution_count": 4,
   "id": "a947e8c3-87bd-4559-98ec-6c3466e3cd99",
   "metadata": {},
   "outputs": [],
   "source": [
    "def luZerlegung(A):\n",
    "    #shape gibt (#Zeilen, #Spalten) aus. IdF: Wie viele Zeilen?\n",
    "    n=A.shape[0]\n",
    "    #Nutzt np copy Methode: Vorteil?\n",
    "    U=A.copy()\n",
    "    #Generiert Einheitsmatrix\n",
    "    L=np.eye(n)\n",
    "    \n",
    "    for i in range(n-1):\n",
    "        L[i+1:n,i] = U[i+1:n,i] / U[i,i]\n",
    "        for k in range(i+1,n):\n",
    "            U[k,i:n] = U[k,i:n] - (L[k,i]*U[i,i:n])\n",
    "    return(L,U)"
   ]
  },
  {
   "cell_type": "code",
   "execution_count": 10,
   "id": "4befd90a-a0f0-4475-b507-03ff0d2aff11",
   "metadata": {},
   "outputs": [
    {
     "data": {
      "text/plain": [
       "(array([[1., 0., 0.],\n",
       "        [2., 1., 0.],\n",
       "        [0., 2., 1.]]),\n",
       " array([[ 1,  1,  1],\n",
       "        [ 0,  2,  3],\n",
       "        [ 0,  0, -6]]))"
      ]
     },
     "execution_count": 10,
     "metadata": {},
     "output_type": "execute_result"
    }
   ],
   "source": [
    "A = np.array([[1,1,1],[2,4,5],[0,4,0]])\n",
    "luZerlegung(A)"
   ]
  }
 ],
 "metadata": {
  "kernelspec": {
   "display_name": "Python 3",
   "language": "python",
   "name": "python3"
  },
  "language_info": {
   "codemirror_mode": {
    "name": "ipython",
    "version": 3
   },
   "file_extension": ".py",
   "mimetype": "text/x-python",
   "name": "python",
   "nbconvert_exporter": "python",
   "pygments_lexer": "ipython3",
   "version": "3.8.8"
  }
 },
 "nbformat": 4,
 "nbformat_minor": 5
}
