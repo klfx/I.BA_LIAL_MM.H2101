{
 "cells": [
  {
   "cell_type": "markdown",
   "id": "7f306865-be85-4975-919c-8facc07353a0",
   "metadata": {},
   "source": [
    "# Homogene Koordinaten"
   ]
  },
  {
   "cell_type": "code",
   "execution_count": 3,
   "id": "4c65c877-cdb7-4024-982c-e2fb53bda251",
   "metadata": {},
   "outputs": [],
   "source": [
    "import numpy as np"
   ]
  },
  {
   "cell_type": "code",
   "execution_count": 11,
   "id": "1c489838-5229-4605-b45d-d4b4f0a4a315",
   "metadata": {},
   "outputs": [
    {
     "data": {
      "text/plain": [
       "array([[-0.70710678,  0.70710678,  8.70710678],\n",
       "       [-0.70710678, -0.70710678, 17.60660172],\n",
       "       [ 0.        ,  0.        ,  1.        ]])"
      ]
     },
     "execution_count": 11,
     "metadata": {},
     "output_type": "execute_result"
    }
   ],
   "source": [
    "t = np.array([[1,0,8],[0,1,7],[0,0,1]])\n",
    "#s = np.array([[-1,0,0],[0,1,0],[0,0,1]])\n",
    "r = 5*np.pi / 4\n",
    "rot_m = np.array([[np.cos(r),-1*np.sin(r),0],\n",
    "                [np.sin(r),np.cos(r),0],\n",
    "                [0,0,1]])\n",
    "t_reverse = np.array([[1,0,-8],[0,1,-7],[0,0,1]])\n",
    "\n",
    "A = t@rot_m@t_reverse\n",
    "A"
   ]
  }
 ],
 "metadata": {
  "kernelspec": {
   "display_name": "Python 3",
   "language": "python",
   "name": "python3"
  },
  "language_info": {
   "codemirror_mode": {
    "name": "ipython",
    "version": 3
   },
   "file_extension": ".py",
   "mimetype": "text/x-python",
   "name": "python",
   "nbconvert_exporter": "python",
   "pygments_lexer": "ipython3",
   "version": "3.8.8"
  }
 },
 "nbformat": 4,
 "nbformat_minor": 5
}
