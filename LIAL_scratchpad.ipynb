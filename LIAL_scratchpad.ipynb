{
 "cells": [
  {
   "cell_type": "code",
   "execution_count": 1,
   "id": "96841657-9388-454f-9f0b-b02c05c24fc1",
   "metadata": {},
   "outputs": [],
   "source": [
    "import numpy as np"
   ]
  },
  {
   "cell_type": "code",
   "execution_count": 24,
   "id": "a71b5362-3e4e-42fc-9c23-4acaad2a1ece",
   "metadata": {},
   "outputs": [
    {
     "data": {
      "text/plain": [
       "(array([-4.51783442,  9.51783442]),\n",
       " array([[ 0.68145174, -0.73186305],\n",
       "        [-0.73186305, -0.68145174]]))"
      ]
     },
     "execution_count": 24,
     "metadata": {},
     "output_type": "execute_result"
    }
   ],
   "source": [
    "A = np.array([[-2,3,-4],[-1,-6,-3],[2,6,1]])\n",
    "P = np.array([[0,0,1],[0,1,0],[1,0,0]])\n",
    "A@P\n",
    "\n",
    "B= np.array([[-3,1,-2],[-4,-6,-1],[6,-5,5]])\n",
    "np.linalg.det(B@A)\n",
    "\n",
    "A=np.array([[1,3],[4,-2]])\n",
    "np.linalg.det(np.linalg.inv(A))\n",
    "\n",
    "A=np.array([[3,5],[1,7]])\n",
    "A=A@A\n",
    "np.linalg.eig((A))\n",
    "\n",
    "A=np.array([[3,7],[7,2]])\n",
    "np.linalg.eigh(A)"
   ]
  },
  {
   "cell_type": "code",
   "execution_count": 12,
   "id": "c8956866-906f-4d38-9036-0e757bc56385",
   "metadata": {},
   "outputs": [
    {
     "data": {
      "text/plain": [
       "-94.00000000000007"
      ]
     },
     "execution_count": 12,
     "metadata": {},
     "output_type": "execute_result"
    }
   ],
   "source": [
    "A=np.array([[],[],[]])\n",
    "A=np.array([[],[]])\n",
    "\n",
    "#np.linalg.inv()\n",
    "#################\n",
    "\n",
    "A=np.array([[2,6,1],[-1,-6,-3],[-2,3,-4]])\n",
    "np.linalg.det(A)\n",
    "\n",
    "A=np.array([[-3,1,-2],[-4,-6,-1],[6,-5,5]])\n",
    "np.linalg.det(A)\n",
    "\n",
    "A=np.array([[2,2],[2,2]])\n",
    "np.linalg.eig(A)\n",
    "\n",
    "A=np.array([[4,5,1],[-7,-6,-1],[6,4,-8]])\n",
    "np.linalg.det(A)"
   ]
  }
 ],
 "metadata": {
  "kernelspec": {
   "display_name": "Python 3",
   "language": "python",
   "name": "python3"
  },
  "language_info": {
   "codemirror_mode": {
    "name": "ipython",
    "version": 3
   },
   "file_extension": ".py",
   "mimetype": "text/x-python",
   "name": "python",
   "nbconvert_exporter": "python",
   "pygments_lexer": "ipython3",
   "version": "3.8.8"
  }
 },
 "nbformat": 4,
 "nbformat_minor": 5
}
