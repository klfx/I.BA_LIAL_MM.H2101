{
 "cells": [
  {
   "cell_type": "markdown",
   "id": "e8a29084-035a-40de-80cd-006570a4fdb1",
   "metadata": {},
   "source": [
    "# LiReg"
   ]
  },
  {
   "cell_type": "code",
   "execution_count": 1,
   "id": "df9dba97-483e-465d-a20d-0f4024e88e38",
   "metadata": {},
   "outputs": [],
   "source": [
    "import numpy as np\n",
    "import matplotlib.pyplot as pl"
   ]
  },
  {
   "cell_type": "code",
   "execution_count": 2,
   "id": "0bbfcf1e-d0fa-4a14-a2d7-6a73db97dfd0",
   "metadata": {},
   "outputs": [
    {
     "name": "stdout",
     "output_type": "stream",
     "text": [
      "X\n",
      "[[ 1 -2]\n",
      " [ 1 -1]\n",
      " [ 1  1]\n",
      " [ 1  2]\n",
      " [ 1  7]]\n",
      "y\n",
      "[[0]\n",
      " [1]\n",
      " [2]\n",
      " [4]\n",
      " [6]]\n"
     ]
    }
   ],
   "source": [
    "X = np.array([1,-2,1,-1,1,1,1,2,1,7]).reshape(5,2)\n",
    "y = np.array([0,1,2,4,6]).reshape(-1,1)\n",
    "print(f'X\\n{X}\\ny\\n{y}')\n",
    "#Kontrolle: Verifizieren, dass erste Column in X aus Einsen besteht"
   ]
  },
  {
   "cell_type": "code",
   "execution_count": 3,
   "id": "e1c28b08-657a-473c-b950-bdcdae704932",
   "metadata": {},
   "outputs": [
    {
     "data": {
      "text/plain": [
       "array([[ 5,  7],\n",
       "       [ 7, 59]])"
      ]
     },
     "execution_count": 3,
     "metadata": {},
     "output_type": "execute_result"
    }
   ],
   "source": [
    "X.T@X"
   ]
  },
  {
   "cell_type": "code",
   "execution_count": 4,
   "id": "3d9c9b9b-a06d-49d7-93b7-9a0b1624ecbd",
   "metadata": {},
   "outputs": [
    {
     "name": "stdout",
     "output_type": "stream",
     "text": [
      "bhat=[[1.66666667]\n",
      " [0.66666667]]\n"
     ]
    }
   ],
   "source": [
    "#Regressionskoeffizienten bhat\n",
    "bhat = np.linalg.inv(X.T@X)@X.T@y\n",
    "print(f'bhat={bhat}')"
   ]
  },
  {
   "cell_type": "code",
   "execution_count": 5,
   "id": "9aae0845-c0b5-4950-b4d2-0508337077c1",
   "metadata": {},
   "outputs": [
    {
     "name": "stdout",
     "output_type": "stream",
     "text": [
      "Projektionsmatrix P\n",
      "[[ 0.43495935  0.36585366  0.22764228  0.15853659 -0.18699187]\n",
      " [ 0.36585366  0.31707317  0.2195122   0.17073171 -0.07317073]\n",
      " [ 0.22764228  0.2195122   0.20325203  0.19512195  0.15447154]\n",
      " [ 0.15853659  0.17073171  0.19512195  0.20731707  0.26829268]\n",
      " [-0.18699187 -0.07317073  0.15447154  0.26829268  0.83739837]]\n",
      "Residualmatrix Q\n",
      "[[ 0.56504065 -0.36585366 -0.22764228 -0.15853659  0.18699187]\n",
      " [-0.36585366  0.68292683 -0.2195122  -0.17073171  0.07317073]\n",
      " [-0.22764228 -0.2195122   0.79674797 -0.19512195 -0.15447154]\n",
      " [-0.15853659 -0.17073171 -0.19512195  0.79268293 -0.26829268]\n",
      " [ 0.18699187  0.07317073 -0.15447154 -0.26829268  0.16260163]]\n",
      "Zentrierende Matrix M\n",
      "[[ 0.8 -0.2 -0.2 -0.2 -0.2]\n",
      " [-0.2  0.8 -0.2 -0.2 -0.2]\n",
      " [-0.2 -0.2  0.8 -0.2 -0.2]\n",
      " [-0.2 -0.2 -0.2  0.8 -0.2]\n",
      " [-0.2 -0.2 -0.2 -0.2  0.8]]\n"
     ]
    }
   ],
   "source": [
    "#P, Q, M\n",
    "P = X@np.linalg.inv(X.T@X)@X.T\n",
    "Q = np.identity(len(X)) - P\n",
    "#Q = I - P, wobei Shape von I die Anzahl an Datenpunkten ist\n",
    "M = np.identity(len(X)) - np.full((len(X),len(X)),1)*(1/len(X))\n",
    "#M = I - 1/m(Matrix full 1 in shape m)\n",
    "print(f'Projektionsmatrix P\\n{P}\\nResidualmatrix Q\\n{Q}\\nZentrierende Matrix M\\n{M}')"
   ]
  },
  {
   "cell_type": "code",
   "execution_count": 6,
   "id": "cc688e80-1d41-4efa-a30f-c4e2835665ce",
   "metadata": {},
   "outputs": [
    {
     "name": "stdout",
     "output_type": "stream",
     "text": [
      "yhat\n",
      "[[0.33333333]\n",
      " [1.        ]\n",
      " [2.33333333]\n",
      " [3.        ]\n",
      " [6.33333333]]\n",
      "e\n",
      "[[-0.33333333]\n",
      " [ 0.        ]\n",
      " [-0.33333333]\n",
      " [ 1.        ]\n",
      " [-0.33333333]]\n"
     ]
    }
   ],
   "source": [
    "#Präsentation: yhat = Py = X@bhat ; e = y - yhat = Qy\n",
    "\n",
    "yhat = P@y\n",
    "#yhat = X@bhat\n",
    "\n",
    "e = y - yhat\n",
    "#e = Q@y\n",
    "print(f'yhat\\n{yhat}\\ne\\n{e}')"
   ]
  },
  {
   "cell_type": "code",
   "execution_count": 7,
   "id": "998ff881-e0ee-404a-a67a-b23edf9ad0ad",
   "metadata": {},
   "outputs": [
    {
     "name": "stdout",
     "output_type": "stream",
     "text": [
      "Rsquare\n",
      "[[0.94252874]]\n",
      "\n"
     ]
    }
   ],
   "source": [
    "#Bestimmtheitsmass R^2\n",
    "#R^2 = 1 - SQR/SQT\n",
    "#SQR = y^T@Q@y\n",
    "#SQT = y^T@M@y\n",
    "\n",
    "SQR = y.T@Q@y\n",
    "SQT = y.T@M@y\n",
    "\n",
    "Rsquare = 1 - (SQR/SQT)\n",
    "print(f'Rsquare\\n{Rsquare}\\n')"
   ]
  },
  {
   "cell_type": "code",
   "execution_count": 8,
   "id": "4070d7c9-0904-4917-9383-9787ceec3664",
   "metadata": {},
   "outputs": [
    {
     "data": {
      "text/plain": [
       "<matplotlib.legend.Legend at 0x241bbf4f160>"
      ]
     },
     "execution_count": 8,
     "metadata": {},
     "output_type": "execute_result"
    },
    {
     "data": {
      "image/png": "[encoded data removed]",
      "text/plain": [
       "<Figure size 432x288 with 1 Axes>"
      ]
     },
     "metadata": {
      "needs_background": "light"
     },
     "output_type": "display_data"
    }
   ],
   "source": [
    "#Approximation mit Regessionskoeffizienten\n",
    "def model_function(x):\n",
    "    return bhat[0] + x*bhat[1]\n",
    "\n",
    "model_range = np.linspace(min(X[:,1]),max(X[:,1]),num=len(X[:,1]))\n",
    "\n",
    "pl.plot(X[:,1],y.T[0],'ro',color='blue',label='Datapoints')\n",
    "pl.plot(model_range,model_function(model_range),'',color='black',label='Modell Regression')\n",
    "pl.grid()\n",
    "pl.legend()"
   ]
  }
 ],
 "metadata": {
  "kernelspec": {
   "display_name": "Python 3",
   "language": "python",
   "name": "python3"
  },
  "language_info": {
   "codemirror_mode": {
    "name": "ipython",
    "version": 3
   },
   "file_extension": ".py",
   "mimetype": "text/x-python",
   "name": "python",
   "nbconvert_exporter": "python",
   "pygments_lexer": "ipython3",
   "version": "3.8.8"
  }
 },
 "nbformat": 4,
 "nbformat_minor": 5
}
