{
 "cells": [
  {
   "cell_type": "markdown",
   "id": "b5091576-d7c3-4ed4-816c-2916ff8303cf",
   "metadata": {},
   "source": [
    "# PCA"
   ]
  },
  {
   "cell_type": "code",
   "execution_count": 1,
   "id": "6b1990a6-f98c-49fc-bb7c-48d772213199",
   "metadata": {},
   "outputs": [],
   "source": [
    "import numpy as np\n",
    "import matplotlib.pyplot as pl\n",
    "\n",
    "np.set_printoptions(precision=5)"
   ]
  },
  {
   "cell_type": "code",
   "execution_count": 6,
   "id": "f89f3ebe-55c9-4137-83c5-222ba5eb27ad",
   "metadata": {},
   "outputs": [
    {
     "name": "stdout",
     "output_type": "stream",
     "text": [
      "Anzahl Datenpunkte: 5\n",
      "Xtilde\n",
      "[[ 1  5]\n",
      " [ 2  2]\n",
      " [ 4  1]\n",
      " [ 7  0]\n",
      " [ 9 -3]]\n",
      "X (zentriert)\n",
      "[[-3.60000e+00  4.00000e+00]\n",
      " [-2.60000e+00  1.00000e+00]\n",
      " [-6.00000e-01  2.22045e-16]\n",
      " [ 2.40000e+00 -1.00000e+00]\n",
      " [ 4.40000e+00 -4.00000e+00]]\n",
      "\n",
      "[[ 0.8 -0.2 -0.2 -0.2 -0.2]\n",
      " [-0.2  0.8 -0.2 -0.2 -0.2]\n",
      " [-0.2 -0.2  0.8 -0.2 -0.2]\n",
      " [-0.2 -0.2 -0.2  0.8 -0.2]\n",
      " [-0.2 -0.2 -0.2 -0.2  0.8]]\n"
     ]
    }
   ],
   "source": [
    "#Spalte 1: x1 Grössen\n",
    "#Spalte 2: x2 Grössen\n",
    "Xtilde = np.array([[1,2,4,7,9],\n",
    "                    [5,2,1,0,-3]]).T\n",
    "n = len(Xtilde)\n",
    "print(f'Anzahl Datenpunkte: {n}')\n",
    "\n",
    "#Hinweis: np.eye und np.identity sind dasselbe\n",
    "#M ist die zentrierende Matrix\n",
    "M = np.identity(n) - 1/n * np.ones([n,1]) @ np.ones([n,1]).T\n",
    "\n",
    "X = M@Xtilde\n",
    "\n",
    "print(f'Xtilde\\n{Xtilde}\\nX (zentriert)\\n{X}')\n",
    "print(f'\\n{M}')"
   ]
  },
  {
   "cell_type": "code",
   "execution_count": 3,
   "id": "b893c179-5eb6-4751-ab28-bb9a4f5cfe06",
   "metadata": {},
   "outputs": [
    {
     "data": {
      "text/plain": [
       "<matplotlib.legend.Legend at 0x232703460a0>"
      ]
     },
     "execution_count": 3,
     "metadata": {},
     "output_type": "execute_result"
    },
    {
     "data": {
      "image/png": "[encoded data removed]",
      "text/plain": [
       "<Figure size 432x288 with 1 Axes>"
      ]
     },
     "metadata": {
      "needs_background": "light"
     },
     "output_type": "display_data"
    }
   ],
   "source": [
    "#Plotting\n",
    "pl.plot(Xtilde.T[0],Xtilde.T[1],'ro', color = 'red', label = 'unzentrierte Werte Xtilde')\n",
    "pl.plot(X.T[0],X.T[1],'ro', color = 'blue', label = 'zentrierte Werte X')\n",
    "#centering_offset: Mittelwerte der Spalten, die Xtilde zwecks Zentrierung abgezogen werden\n",
    "centering_offset = 1/n * np.ones([n,1]) @ np.ones([n,1]).T @ Xtilde\n",
    "pl.plot(centering_offset.T[0],centering_offset.T[1],'ro', color='orange',label='centering_offset')\n",
    "pl.grid()\n",
    "pl.legend()"
   ]
  },
  {
   "cell_type": "code",
   "execution_count": 7,
   "id": "a062b66f-899e-4e59-ae82-9c336add2187",
   "metadata": {},
   "outputs": [
    {
     "name": "stdout",
     "output_type": "stream",
     "text": [
      "Kovarianzmatrix C\n",
      "[[11.3  -9.25]\n",
      " [-9.25  8.5 ]]\n"
     ]
    }
   ],
   "source": [
    "C = (1/(n-1))*X.T@X\n",
    "print(f'Kovarianzmatrix C\\n{C}')"
   ]
  },
  {
   "cell_type": "code",
   "execution_count": 8,
   "id": "e3005b8b-284f-4e88-9f74-a91ae05a9e2a",
   "metadata": {},
   "outputs": [
    {
     "name": "stdout",
     "output_type": "stream",
     "text": [
      "S\n",
      "[[-0.75817  0.65206]\n",
      " [ 0.65206  0.75817]]\n",
      "V\n",
      "[[77.02138  0.     ]\n",
      " [ 0.       2.17862]]\n",
      "D\n",
      "[[-0.75817  0.65206]\n",
      " [ 0.65206  0.75817]]\n",
      "\n",
      "\n",
      "Eigenvektoren V\n",
      "[[ 0.75817  0.65206]\n",
      " [-0.65206  0.75817]]\n",
      "Eigenwerte\n",
      "[[19.25535  0.     ]\n",
      " [ 0.       0.54465]]\n",
      "Eigenvektoren transponiert\n",
      "[[ 0.75817 -0.65206]\n",
      " [ 0.65206  0.75817]]\n",
      "\n",
      "X@EV\n",
      "[[-5.33764  0.68528]\n",
      " [-2.6233  -0.93717]\n",
      " [-0.4549  -0.39123]\n",
      " [ 2.47167  0.80676]\n",
      " [ 5.94418 -0.16364]]\n"
     ]
    }
   ],
   "source": [
    "#np.linalg.eigvals(X@X.T)\n",
    "#np.linalg.eigvals(X.T@X)\n",
    "\n",
    "#SVD\n",
    "S,V,D = np.linalg.svd(X.T@X)\n",
    "V_true = np.diag(V)\n",
    "print(f'S\\n{S}\\nV\\n{V_true}\\nD\\n{D}')\n",
    "\n",
    "#Eigenvaluedecomposition\n",
    "EW, EV = np.linalg.eig(C)\n",
    "EW_true = np.diag(EW)\n",
    "print(f'\\n\\nEigenvektoren V\\n{EV}\\nEigenwerte\\n{EW_true}\\nEigenvektoren transponiert\\n{EV.T}\\n')\n",
    "print(f'X@EV\\n{X@EV}')\n"
   ]
  }
 ],
 "metadata": {
  "kernelspec": {
   "display_name": "Python 3",
   "language": "python",
   "name": "python3"
  },
  "language_info": {
   "codemirror_mode": {
    "name": "ipython",
    "version": 3
   },
   "file_extension": ".py",
   "mimetype": "text/x-python",
   "name": "python",
   "nbconvert_exporter": "python",
   "pygments_lexer": "ipython3",
   "version": "3.8.8"
  }
 },
 "nbformat": 4,
 "nbformat_minor": 5
}
