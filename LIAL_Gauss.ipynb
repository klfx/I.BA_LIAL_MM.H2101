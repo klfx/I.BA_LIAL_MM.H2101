{
 "cells": [
  {
   "cell_type": "markdown",
   "id": "d1c1a2bf-9a40-410f-bf90-ad0ac10eaec6",
   "metadata": {},
   "source": [
    "# Gauss\n"
   ]
  },
  {
   "cell_type": "code",
   "execution_count": 2,
   "id": "38e06179-fc82-4c8f-a6ff-ca75c113b9a4",
   "metadata": {},
   "outputs": [],
   "source": [
    "import numpy as np"
   ]
  },
  {
   "cell_type": "code",
   "execution_count": 4,
   "id": "974e9785-6016-436e-b967-e7af889ed96f",
   "metadata": {},
   "outputs": [
    {
     "name": "stdout",
     "output_type": "stream",
     "text": [
      "[[13 -4]\n",
      " [-4  7]]\n"
     ]
    }
   ],
   "source": [
    "A = np.array ([\n",
    "    [3.0, 2, -1, -15],\n",
    "    [5, 3, 2, 0],\n",
    "    [3, 1, 3, 11],\n",
    "    [-6, -4, 2, 30],\n",
    "])\n",
    "A = np.array([[13,-4],[-4,7]])\n",
    "print (A)\n"
   ]
  },
  {
   "cell_type": "code",
   "execution_count": 6,
   "id": "b89503d8-7299-4602-bfa6-ad92e9f4dabd",
   "metadata": {},
   "outputs": [
    {
     "ename": "UFuncTypeError",
     "evalue": "Cannot cast ufunc 'subtract' output from dtype('float64') to dtype('int32') with casting rule 'same_kind'",
     "output_type": "error",
     "traceback": [
      "\u001b[1;31m---------------------------------------------------------------------------\u001b[0m",
      "\u001b[1;31mUFuncTypeError\u001b[0m                            Traceback (most recent call last)",
      "\u001b[1;32m<ipython-input-6-944231c1f15c>\u001b[0m in \u001b[0;36m<module>\u001b[1;34m\u001b[0m\n\u001b[0;32m      6\u001b[0m             \u001b[0mA\u001b[0m \u001b[1;33m[\u001b[0m\u001b[0mj\u001b[0m\u001b[1;33m,\u001b[0m \u001b[1;33m:\u001b[0m\u001b[1;33m]\u001b[0m \u001b[1;33m-=\u001b[0m \u001b[0mf\u001b[0m \u001b[1;33m*\u001b[0m \u001b[0mA\u001b[0m \u001b[1;33m[\u001b[0m\u001b[0mi\u001b[0m\u001b[1;33m,\u001b[0m \u001b[1;33m:\u001b[0m\u001b[1;33m]\u001b[0m \u001b[1;31m# Vielfaches der i-ten Zeile von der j-ten subtrahieren\u001b[0m\u001b[1;33m\u001b[0m\u001b[1;33m\u001b[0m\u001b[0m\n\u001b[0;32m      7\u001b[0m \u001b[1;33m\u001b[0m\u001b[0m\n\u001b[1;32m----> 8\u001b[1;33m \u001b[0mGauss\u001b[0m \u001b[1;33m(\u001b[0m\u001b[0mA\u001b[0m\u001b[1;33m)\u001b[0m\u001b[1;33m\u001b[0m\u001b[1;33m\u001b[0m\u001b[0m\n\u001b[0m\u001b[0;32m      9\u001b[0m \u001b[0mprint\u001b[0m \u001b[1;33m(\u001b[0m\u001b[0mA\u001b[0m\u001b[1;33m)\u001b[0m\u001b[1;33m\u001b[0m\u001b[1;33m\u001b[0m\u001b[0m\n",
      "\u001b[1;32m<ipython-input-6-944231c1f15c>\u001b[0m in \u001b[0;36mGauss\u001b[1;34m(A)\u001b[0m\n\u001b[0;32m      4\u001b[0m         \u001b[1;32mfor\u001b[0m \u001b[0mj\u001b[0m \u001b[1;32min\u001b[0m \u001b[0mrange\u001b[0m \u001b[1;33m(\u001b[0m\u001b[0mi\u001b[0m \u001b[1;33m+\u001b[0m \u001b[1;36m1\u001b[0m\u001b[1;33m,\u001b[0m \u001b[0mn\u001b[0m\u001b[1;33m)\u001b[0m\u001b[1;33m:\u001b[0m \u001b[1;31m# Alle Elemente unterhalb von A [i, i]\u001b[0m\u001b[1;33m\u001b[0m\u001b[1;33m\u001b[0m\u001b[0m\n\u001b[0;32m      5\u001b[0m             \u001b[0mf\u001b[0m \u001b[1;33m=\u001b[0m \u001b[0mA\u001b[0m \u001b[1;33m[\u001b[0m\u001b[0mj\u001b[0m\u001b[1;33m,\u001b[0m \u001b[0mi\u001b[0m\u001b[1;33m]\u001b[0m \u001b[1;33m/\u001b[0m \u001b[0mA\u001b[0m \u001b[1;33m[\u001b[0m\u001b[0mi\u001b[0m\u001b[1;33m,\u001b[0m \u001b[0mi\u001b[0m\u001b[1;33m]\u001b[0m \u001b[1;31m# Faktor zur Multiplikation der oberen Zeile\u001b[0m\u001b[1;33m\u001b[0m\u001b[1;33m\u001b[0m\u001b[0m\n\u001b[1;32m----> 6\u001b[1;33m             \u001b[0mA\u001b[0m \u001b[1;33m[\u001b[0m\u001b[0mj\u001b[0m\u001b[1;33m,\u001b[0m \u001b[1;33m:\u001b[0m\u001b[1;33m]\u001b[0m \u001b[1;33m-=\u001b[0m \u001b[0mf\u001b[0m \u001b[1;33m*\u001b[0m \u001b[0mA\u001b[0m \u001b[1;33m[\u001b[0m\u001b[0mi\u001b[0m\u001b[1;33m,\u001b[0m \u001b[1;33m:\u001b[0m\u001b[1;33m]\u001b[0m \u001b[1;31m# Vielfaches der i-ten Zeile von der j-ten subtrahieren\u001b[0m\u001b[1;33m\u001b[0m\u001b[1;33m\u001b[0m\u001b[0m\n\u001b[0m\u001b[0;32m      7\u001b[0m \u001b[1;33m\u001b[0m\u001b[0m\n\u001b[0;32m      8\u001b[0m \u001b[0mGauss\u001b[0m \u001b[1;33m(\u001b[0m\u001b[0mA\u001b[0m\u001b[1;33m)\u001b[0m\u001b[1;33m\u001b[0m\u001b[1;33m\u001b[0m\u001b[0m\n",
      "\u001b[1;31mUFuncTypeError\u001b[0m: Cannot cast ufunc 'subtract' output from dtype('float64') to dtype('int32') with casting rule 'same_kind'"
     ]
    }
   ],
   "source": [
    "def Gauss (A):\n",
    "    m, n = A.shape # m: Anzahl Zeilen, n: Anzahl Spaltem\n",
    "    for i in range (m - 1): # Diagonalelement A [i, i]\n",
    "        for j in range (i + 1, n): # Alle Elemente unterhalb von A [i, i]\n",
    "            f = A [j, i] / A [i, i] # Faktor zur Multiplikation der oberen Zeile\n",
    "            A [j, :] -= f * A [i, :] # Vielfaches der i-ten Zeile von der j-ten subtrahieren\n",
    "            \n",
    "Gauss (A)\n",
    "print (A)"
   ]
  },
  {
   "cell_type": "code",
   "execution_count": 12,
   "id": "9939e461-961e-493b-b087-57a32039eb79",
   "metadata": {},
   "outputs": [],
   "source": [
    "def Gauss_extended (A0, b0):\n",
    "    n = A0.shape [0]\n",
    "    A = np.copy (A0)\n",
    "    b = np.copy (b0)\n",
    "    for i in range (n - 1):\n",
    "        k = i + 1 + np.argmax (abs (A [i + 1 : n, i]))\n",
    "        tmp = np.copy (A [i]); A [i] = A [k]; A [k] = tmp\n",
    "        tmp = np.copy (b [i]); b [i] = b [k]; b [k] = tmp\n",
    "        for k in range (i + 1, n):\n",
    "            s = A [k, i] / A [i, i]\n",
    "            A [k] = A [k] - s * A [i]\n",
    "            b [k] = b [k] - s * b [i]\n",
    "    x = np.zeros ((n, 1))\n",
    "    for i in range (n - 1, -1, -1):\n",
    "        s = b [i]\n",
    "        for k in range (i + 1, n):\n",
    "            s = s - A [i, k] * x [k]\n",
    "        x [i] = s / A [i, i]\n",
    "    return x"
   ]
  },
  {
   "cell_type": "code",
   "execution_count": 22,
   "id": "f00bb1ec-6bfb-4621-bbd5-820a14f0dc97",
   "metadata": {},
   "outputs": [
    {
     "data": {
      "text/plain": [
       "array([[ 1.5       ],\n",
       "       [ 2.6       ],\n",
       "       [ 0.06666667],\n",
       "       [-5.2       ]])"
      ]
     },
     "execution_count": 22,
     "metadata": {},
     "output_type": "execute_result"
    }
   ],
   "source": [
    "A = np.array([[2,2,3,2],\n",
    "              [4,-3,0,1],\n",
    "              [6,1,-6,1],\n",
    "              [0,2,0,1]],dtype=float)\n",
    "b = np.array([-2,-7,6,0],dtype=float).reshape(-1,1)\n",
    "Gauss_extended(A,b)"
   ]
  }
 ],
 "metadata": {
  "kernelspec": {
   "display_name": "Python 3",
   "language": "python",
   "name": "python3"
  },
  "language_info": {
   "codemirror_mode": {
    "name": "ipython",
    "version": 3
   },
   "file_extension": ".py",
   "mimetype": "text/x-python",
   "name": "python",
   "nbconvert_exporter": "python",
   "pygments_lexer": "ipython3",
   "version": "3.8.8"
  }
 },
 "nbformat": 4,
 "nbformat_minor": 5
}
